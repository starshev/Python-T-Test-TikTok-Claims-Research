{
 "cells": [
  {
   "cell_type": "markdown",
   "id": "d6d506ac",
   "metadata": {},
   "source": [
    "# T-Test with Python · Short Videos App"
   ]
  },
  {
   "cell_type": "markdown",
   "id": "5ff2c0ea",
   "metadata": {},
   "source": [
    "Completed by [Anton Starshev](http://linkedin.com/in/starshev) on 18/04/2024"
   ]
  },
  {
   "cell_type": "markdown",
   "id": "65f80e5a",
   "metadata": {},
   "source": [
    "### Context\n",
    "\n",
    "According to the fictional project scenario, I am a member of TikTok's data analytics team that has completed the first three milestones of the claims classification project. \n",
    "\n",
    "Project management officers inform the data team about a new request: to determine whether there is a statistically significant difference in the number of views for TikTok videos posted by verified accounts versus unverified accounts."
   ]
  },
  {
   "cell_type": "markdown",
   "id": "78380cef",
   "metadata": {},
   "source": [
    "### Data\n",
    "\n",
    "This project uses a dataset called **tiktok_dataset.csv**. It contains synthetic data created for this project in partnership with TikTok."
   ]
  },
  {
   "cell_type": "markdown",
   "id": "2f2d65af",
   "metadata": {},
   "source": [
    "### Execution\n",
    "\n",
    "The project is divided into four key phases that are carried out step by step:\n",
    "\n",
    "1. Importing necessary Python packages and loading the dataset\n",
    "2. Wrangling and exploring the project data\n",
    "3. Implement a hypothesis test\n",
    "4. Formulating business insights and recommendations"
   ]
  },
  {
   "cell_type": "markdown",
   "id": "61212d80",
   "metadata": {},
   "source": [
    "### 1 · Data Loading"
   ]
  },
  {
   "cell_type": "markdown",
   "id": "173ef363",
   "metadata": {},
   "source": [
    "Imported packages and libraries needed to compute descriptive statistics and conduct a hypothesis test."
   ]
  },
  {
   "cell_type": "code",
   "execution_count": 1,
   "id": "7ae300db",
   "metadata": {},
   "outputs": [],
   "source": [
    "import pandas as pd\n",
    "from scipy import stats"
   ]
  },
  {
   "cell_type": "markdown",
   "id": "dd44ddf9",
   "metadata": {},
   "source": [
    "Loaded the scenario dataset into a DataFrame."
   ]
  },
  {
   "cell_type": "code",
   "execution_count": 5,
   "id": "5d78e24f",
   "metadata": {},
   "outputs": [],
   "source": [
    "df = pd.read_csv(\"tiktok_dataset.csv\", index_col = 0)"
   ]
  },
  {
   "cell_type": "markdown",
   "id": "c49b7527",
   "metadata": {},
   "source": [
    "### 2 · Data Wrangling and Exploration"
   ]
  },
  {
   "cell_type": "markdown",
   "id": "2b47d493",
   "metadata": {},
   "source": [
    "Previewed the loaded data."
   ]
  },
  {
   "cell_type": "code",
   "execution_count": 20,
   "id": "b569207d",
   "metadata": {},
   "outputs": [
    {
     "data": {
      "text/html": [
       "<div>\n",
       "<style scoped>\n",
       "    .dataframe tbody tr th:only-of-type {\n",
       "        vertical-align: middle;\n",
       "    }\n",
       "\n",
       "    .dataframe tbody tr th {\n",
       "        vertical-align: top;\n",
       "    }\n",
       "\n",
       "    .dataframe thead th {\n",
       "        text-align: right;\n",
       "    }\n",
       "</style>\n",
       "<table border=\"1\" class=\"dataframe\">\n",
       "  <thead>\n",
       "    <tr style=\"text-align: right;\">\n",
       "      <th></th>\n",
       "      <th>claim_status</th>\n",
       "      <th>video_id</th>\n",
       "      <th>video_duration_sec</th>\n",
       "      <th>video_transcription_text</th>\n",
       "      <th>verified_status</th>\n",
       "      <th>author_ban_status</th>\n",
       "      <th>video_view_count</th>\n",
       "      <th>video_like_count</th>\n",
       "      <th>video_share_count</th>\n",
       "      <th>video_download_count</th>\n",
       "      <th>video_comment_count</th>\n",
       "    </tr>\n",
       "    <tr>\n",
       "      <th>#</th>\n",
       "      <th></th>\n",
       "      <th></th>\n",
       "      <th></th>\n",
       "      <th></th>\n",
       "      <th></th>\n",
       "      <th></th>\n",
       "      <th></th>\n",
       "      <th></th>\n",
       "      <th></th>\n",
       "      <th></th>\n",
       "      <th></th>\n",
       "    </tr>\n",
       "  </thead>\n",
       "  <tbody>\n",
       "    <tr>\n",
       "      <th>1</th>\n",
       "      <td>claim</td>\n",
       "      <td>7017666017</td>\n",
       "      <td>59</td>\n",
       "      <td>someone shared with me that drone deliveries a...</td>\n",
       "      <td>not verified</td>\n",
       "      <td>under review</td>\n",
       "      <td>343296.0</td>\n",
       "      <td>19425.0</td>\n",
       "      <td>241.0</td>\n",
       "      <td>1.0</td>\n",
       "      <td>0.0</td>\n",
       "    </tr>\n",
       "    <tr>\n",
       "      <th>2</th>\n",
       "      <td>claim</td>\n",
       "      <td>4014381136</td>\n",
       "      <td>32</td>\n",
       "      <td>someone shared with me that there are more mic...</td>\n",
       "      <td>not verified</td>\n",
       "      <td>active</td>\n",
       "      <td>140877.0</td>\n",
       "      <td>77355.0</td>\n",
       "      <td>19034.0</td>\n",
       "      <td>1161.0</td>\n",
       "      <td>684.0</td>\n",
       "    </tr>\n",
       "    <tr>\n",
       "      <th>3</th>\n",
       "      <td>claim</td>\n",
       "      <td>9859838091</td>\n",
       "      <td>31</td>\n",
       "      <td>someone shared with me that american industria...</td>\n",
       "      <td>not verified</td>\n",
       "      <td>active</td>\n",
       "      <td>902185.0</td>\n",
       "      <td>97690.0</td>\n",
       "      <td>2858.0</td>\n",
       "      <td>833.0</td>\n",
       "      <td>329.0</td>\n",
       "    </tr>\n",
       "  </tbody>\n",
       "</table>\n",
       "</div>"
      ],
      "text/plain": [
       "  claim_status    video_id  video_duration_sec  \\\n",
       "#                                                \n",
       "1        claim  7017666017                  59   \n",
       "2        claim  4014381136                  32   \n",
       "3        claim  9859838091                  31   \n",
       "\n",
       "                            video_transcription_text verified_status  \\\n",
       "#                                                                      \n",
       "1  someone shared with me that drone deliveries a...    not verified   \n",
       "2  someone shared with me that there are more mic...    not verified   \n",
       "3  someone shared with me that american industria...    not verified   \n",
       "\n",
       "  author_ban_status  video_view_count  video_like_count  video_share_count  \\\n",
       "#                                                                            \n",
       "1      under review          343296.0           19425.0              241.0   \n",
       "2            active          140877.0           77355.0            19034.0   \n",
       "3            active          902185.0           97690.0             2858.0   \n",
       "\n",
       "   video_download_count  video_comment_count  \n",
       "#                                             \n",
       "1                   1.0                  0.0  \n",
       "2                1161.0                684.0  \n",
       "3                 833.0                329.0  "
      ]
     },
     "execution_count": 20,
     "metadata": {},
     "output_type": "execute_result"
    }
   ],
   "source": [
    "df.head(3)"
   ]
  },
  {
   "cell_type": "markdown",
   "id": "447fad93",
   "metadata": {},
   "source": [
    "Checked the data size."
   ]
  },
  {
   "cell_type": "code",
   "execution_count": 7,
   "id": "308bfb86",
   "metadata": {},
   "outputs": [
    {
     "data": {
      "text/plain": [
       "(19382, 11)"
      ]
     },
     "execution_count": 7,
     "metadata": {},
     "output_type": "execute_result"
    }
   ],
   "source": [
    "df.shape"
   ]
  },
  {
   "cell_type": "markdown",
   "id": "58549904",
   "metadata": {},
   "source": [
    "Verified the data types and names of columns."
   ]
  },
  {
   "cell_type": "code",
   "execution_count": 8,
   "id": "9460db01",
   "metadata": {},
   "outputs": [
    {
     "data": {
      "text/plain": [
       "claim_status                 object\n",
       "video_id                      int64\n",
       "video_duration_sec            int64\n",
       "video_transcription_text     object\n",
       "verified_status              object\n",
       "author_ban_status            object\n",
       "video_view_count            float64\n",
       "video_like_count            float64\n",
       "video_share_count           float64\n",
       "video_download_count        float64\n",
       "video_comment_count         float64\n",
       "dtype: object"
      ]
     },
     "execution_count": 8,
     "metadata": {},
     "output_type": "execute_result"
    }
   ],
   "source": [
    "df.dtypes"
   ]
  },
  {
   "cell_type": "markdown",
   "id": "916cc52b",
   "metadata": {},
   "source": [
    "Used descriptive statistics to conduct Exploratory Data Analysis (EDA) on the video view counts."
   ]
  },
  {
   "cell_type": "code",
   "execution_count": 12,
   "id": "10f07c16",
   "metadata": {},
   "outputs": [
    {
     "data": {
      "text/html": [
       "<div>\n",
       "<style scoped>\n",
       "    .dataframe tbody tr th:only-of-type {\n",
       "        vertical-align: middle;\n",
       "    }\n",
       "\n",
       "    .dataframe tbody tr th {\n",
       "        vertical-align: top;\n",
       "    }\n",
       "\n",
       "    .dataframe thead th {\n",
       "        text-align: right;\n",
       "    }\n",
       "</style>\n",
       "<table border=\"1\" class=\"dataframe\">\n",
       "  <thead>\n",
       "    <tr style=\"text-align: right;\">\n",
       "      <th></th>\n",
       "      <th>video_view_count</th>\n",
       "    </tr>\n",
       "  </thead>\n",
       "  <tbody>\n",
       "    <tr>\n",
       "      <th>count</th>\n",
       "      <td>19084.000000</td>\n",
       "    </tr>\n",
       "    <tr>\n",
       "      <th>mean</th>\n",
       "      <td>254708.558688</td>\n",
       "    </tr>\n",
       "    <tr>\n",
       "      <th>std</th>\n",
       "      <td>322893.280814</td>\n",
       "    </tr>\n",
       "    <tr>\n",
       "      <th>min</th>\n",
       "      <td>20.000000</td>\n",
       "    </tr>\n",
       "    <tr>\n",
       "      <th>25%</th>\n",
       "      <td>4942.500000</td>\n",
       "    </tr>\n",
       "    <tr>\n",
       "      <th>50%</th>\n",
       "      <td>9954.500000</td>\n",
       "    </tr>\n",
       "    <tr>\n",
       "      <th>75%</th>\n",
       "      <td>504327.000000</td>\n",
       "    </tr>\n",
       "    <tr>\n",
       "      <th>max</th>\n",
       "      <td>999817.000000</td>\n",
       "    </tr>\n",
       "  </tbody>\n",
       "</table>\n",
       "</div>"
      ],
      "text/plain": [
       "       video_view_count\n",
       "count      19084.000000\n",
       "mean      254708.558688\n",
       "std       322893.280814\n",
       "min           20.000000\n",
       "25%         4942.500000\n",
       "50%         9954.500000\n",
       "75%       504327.000000\n",
       "max       999817.000000"
      ]
     },
     "execution_count": 12,
     "metadata": {},
     "output_type": "execute_result"
    }
   ],
   "source": [
    "df[['video_view_count']].describe(include = 'all')"
   ]
  },
  {
   "cell_type": "markdown",
   "id": "98211ee1",
   "metadata": {},
   "source": [
    "Checked for and handled missing values."
   ]
  },
  {
   "cell_type": "code",
   "execution_count": 14,
   "id": "22d5bb49",
   "metadata": {},
   "outputs": [
    {
     "data": {
      "text/plain": [
       "claim_status                298\n",
       "video_id                      0\n",
       "video_duration_sec            0\n",
       "video_transcription_text    298\n",
       "verified_status               0\n",
       "author_ban_status             0\n",
       "video_view_count            298\n",
       "video_like_count            298\n",
       "video_share_count           298\n",
       "video_download_count        298\n",
       "video_comment_count         298\n",
       "dtype: int64"
      ]
     },
     "execution_count": 14,
     "metadata": {},
     "output_type": "execute_result"
    }
   ],
   "source": [
    "df.isnull().sum()"
   ]
  },
  {
   "cell_type": "code",
   "execution_count": 21,
   "id": "5c23c5d9",
   "metadata": {},
   "outputs": [
    {
     "data": {
      "text/plain": [
       "claim_status                0\n",
       "video_id                    0\n",
       "video_duration_sec          0\n",
       "video_transcription_text    0\n",
       "verified_status             0\n",
       "author_ban_status           0\n",
       "video_view_count            0\n",
       "video_like_count            0\n",
       "video_share_count           0\n",
       "video_download_count        0\n",
       "video_comment_count         0\n",
       "dtype: int64"
      ]
     },
     "execution_count": 21,
     "metadata": {},
     "output_type": "execute_result"
    }
   ],
   "source": [
    "df.dropna(axis = 0, inplace = True)\n",
    "df.isnull().sum()"
   ]
  },
  {
   "cell_type": "markdown",
   "id": "3223e393",
   "metadata": {},
   "source": [
    "Checked for duplicated rows."
   ]
  },
  {
   "cell_type": "code",
   "execution_count": 16,
   "id": "78529662",
   "metadata": {},
   "outputs": [
    {
     "data": {
      "text/plain": [
       "0"
      ]
     },
     "execution_count": 16,
     "metadata": {},
     "output_type": "execute_result"
    }
   ],
   "source": [
    "df.duplicated().sum()"
   ]
  },
  {
   "cell_type": "markdown",
   "id": "569ee290",
   "metadata": {},
   "source": [
    "Since I was interested in the relationship between account status and video view count, one approach was to examine the mean value of video view count for each group of verified or not verified accounts in the sample data."
   ]
  },
  {
   "cell_type": "code",
   "execution_count": 17,
   "id": "d8558aa0",
   "metadata": {},
   "outputs": [
    {
     "data": {
      "text/html": [
       "<div>\n",
       "<style scoped>\n",
       "    .dataframe tbody tr th:only-of-type {\n",
       "        vertical-align: middle;\n",
       "    }\n",
       "\n",
       "    .dataframe tbody tr th {\n",
       "        vertical-align: top;\n",
       "    }\n",
       "\n",
       "    .dataframe thead th {\n",
       "        text-align: right;\n",
       "    }\n",
       "</style>\n",
       "<table border=\"1\" class=\"dataframe\">\n",
       "  <thead>\n",
       "    <tr style=\"text-align: right;\">\n",
       "      <th></th>\n",
       "      <th>video_view_count</th>\n",
       "    </tr>\n",
       "    <tr>\n",
       "      <th>verified_status</th>\n",
       "      <th></th>\n",
       "    </tr>\n",
       "  </thead>\n",
       "  <tbody>\n",
       "    <tr>\n",
       "      <th>not verified</th>\n",
       "      <td>265663.785339</td>\n",
       "    </tr>\n",
       "    <tr>\n",
       "      <th>verified</th>\n",
       "      <td>91439.164167</td>\n",
       "    </tr>\n",
       "  </tbody>\n",
       "</table>\n",
       "</div>"
      ],
      "text/plain": [
       "                 video_view_count\n",
       "verified_status                  \n",
       "not verified        265663.785339\n",
       "verified             91439.164167"
      ]
     },
     "execution_count": 17,
     "metadata": {},
     "output_type": "execute_result"
    }
   ],
   "source": [
    "df.groupby('verified_status')[['video_view_count']].mean()"
   ]
  },
  {
   "cell_type": "markdown",
   "id": "1848dbd8",
   "metadata": {},
   "source": [
    "**Observation**: Firstly, it is now confirmed that we have only two account status groups for research.\n",
    "\n",
    "Secondly, according to my initial exploration, videos posted by verified users tend to receive significantly fewer views on average than those published by unverified accounts. However, I needed to demonstrate that this disparity was not a result of sample variability. Therefore, the subsequent step was to assess the statistical significance of this distinction through hypothesis testing."
   ]
  },
  {
   "cell_type": "markdown",
   "id": "3a71c21a",
   "metadata": {},
   "source": [
    "### 3 · Hypothesis Test"
   ]
  },
  {
   "cell_type": "markdown",
   "id": "92161d34",
   "metadata": {},
   "source": [
    "Stated the null hypothesis and the alternative hypothesis:\n",
    "\n",
    "**H<sub>0</sub>**: There is no distinction in the number of views between TikTok videos posted by verified accounts and those posted by unverified accounts (any divergence observed in the sample data is attributable to chance or sampling variability).\n",
    "\n",
    "**H<sub>1</sub>**: There is a difference in the number of views between TikTok videos posted by verified accounts and those posted by unverified accounts (any observed difference in the sample data is due to an actual difference in the corresponding population means).\n",
    "\n",
    "Assigned a **5% significance level** to the hypothesis test.\n",
    "\n",
    "Determined the type of hypothesis testing: **two-sample two-tailed t-test**.\n",
    "\n",
    "Filtered the data into two groups based on the account status: verified or not verified."
   ]
  },
  {
   "cell_type": "code",
   "execution_count": 18,
   "id": "0f00cfcf",
   "metadata": {},
   "outputs": [],
   "source": [
    "verified = df[df['verified_status'] == 'verified'].video_view_count\n",
    "\n",
    "not_verified = df[df['verified_status'] == 'not verified'].video_view_count"
   ]
  },
  {
   "cell_type": "markdown",
   "id": "7fac2d1a",
   "metadata": {},
   "source": [
    "Conducted the hypothesis test using SciPy Stats."
   ]
  },
  {
   "cell_type": "code",
   "execution_count": 19,
   "id": "e1cfdcef",
   "metadata": {},
   "outputs": [
    {
     "data": {
      "text/plain": [
       "TtestResult(statistic=-25.499441780633777, pvalue=2.6088823687177823e-120, df=1571.163074387424)"
      ]
     },
     "execution_count": 19,
     "metadata": {},
     "output_type": "execute_result"
    }
   ],
   "source": [
    "stats.ttest_ind(a = verified, b = not_verified, equal_var = False, \n",
    "alternative = 'two-sided')"
   ]
  },
  {
   "cell_type": "markdown",
   "id": "a1994e4a",
   "metadata": {},
   "source": [
    "**Test Result**: Since the p-value is significantly lower than the 5% significance level, I rejected the null hypothesis."
   ]
  },
  {
   "cell_type": "markdown",
   "id": "dea554e3",
   "metadata": {},
   "source": [
    "### 4 · Insight and Recommendation"
   ]
  },
  {
   "cell_type": "markdown",
   "id": "d39090c1",
   "metadata": {},
   "source": [
    "**Business Insight**: Based on the conducted test, the key business insight is that there is a statistically significant difference in the average number of views of videos created by verified versus unverified accounts. Specifically, unverified accounts receive much more attention.\n",
    "\n",
    "**Communication and Recommendation**: *The analysis revealed potential fundamental behavioral disparities between the account categories. Exploring the underlying cause of this behavioral contrast would be intriguing. For instance, do unverified accounts tend to share more engaging videos, or are unverified accounts associated with any kind of spam bots.*"
   ]
  },
  {
   "cell_type": "markdown",
   "id": "93b98f0a",
   "metadata": {},
   "source": [
    "### Acknowledgment"
   ]
  },
  {
   "cell_type": "markdown",
   "id": "7d214a71",
   "metadata": {},
   "source": [
    "I would like to express gratitude to Google and Coursera for supporting the educational process and providing the opportunity to refine and showcase skills acquired during the courses by completing real-life scenario portfolio projects, such as this."
   ]
  },
  {
   "cell_type": "markdown",
   "id": "d01492c1",
   "metadata": {},
   "source": [
    "### Reference"
   ]
  },
  {
   "cell_type": "markdown",
   "id": "1f6d7a16",
   "metadata": {},
   "source": [
    "This is an end-of-course workplace scenario project *«TikTok, created in partnership with the short-form video hosting company»* proposed within the syllabus of *Google Advanced Data Analytics Professional Certificate* on Coursera."
   ]
  }
 ],
 "metadata": {
  "kernelspec": {
   "display_name": "Python 3 (ipykernel)",
   "language": "python",
   "name": "python3"
  },
  "language_info": {
   "codemirror_mode": {
    "name": "ipython",
    "version": 3
   },
   "file_extension": ".py",
   "mimetype": "text/x-python",
   "name": "python",
   "nbconvert_exporter": "python",
   "pygments_lexer": "ipython3",
   "version": "3.11.5"
  }
 },
 "nbformat": 4,
 "nbformat_minor": 5
}
